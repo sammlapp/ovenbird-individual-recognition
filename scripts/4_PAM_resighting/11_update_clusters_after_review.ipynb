{
 "cells": [
  {
   "cell_type": "markdown",
   "metadata": {},
   "source": [
    "## Apply Phase 1 cluster review annotations to all detected songs\n",
    "\n",
    "based on Phase 1 cluster review, apply updated cluster labels to all clips\n",
    "- some clusters were merged\n",
    "- some clusters that were impure are removed from further analysis\n",
    "\n",
    "This script was used to create the `per_point_clusters_reviewed.csv` file in the publicly available 4-year passive acoustic monitoring dataset of Ovenbird songs. \n"
   ]
  },
  {
   "cell_type": "code",
   "execution_count": null,
   "metadata": {},
   "outputs": [],
   "source": [
    "import pandas as pd\n",
    "import numpy as np\n",
    "import ast\n",
    "\n",
    "\n",
    "def parse_list_of_floats(string):\n",
    "    try:\n",
    "        return ast.literal_eval(string)\n",
    "    except (SyntaxError, ValueError):\n",
    "        return None"
   ]
  },
  {
   "cell_type": "code",
   "execution_count": null,
   "metadata": {},
   "outputs": [],
   "source": [
    "pam_dataset_path = \"../../../pam_dataset_v4/\"\n",
    "\n",
    "cluster_samples = pd.read_csv(\n",
    "    f\"{pam_dataset_path}/per_point_clusters_sample10.csv\",\n",
    "    parse_dates=[\"datetime\", \"date\"],\n",
    "    converters={\"features3d\": parse_list_of_floats},\n",
    ")\n",
    "cluster_samples[\"file\"] = cluster_samples[\"clip_name\"].apply(\n",
    "    lambda clip: f\"{pam_dataset_path}/audio/{clip}\"\n",
    ")\n",
    "cluster_samples[\"start_time\"] = 0\n",
    "cluster_samples[\"year\"] = cluster_samples[\"date\"].apply(lambda x: x.year)"
   ]
  },
  {
   "cell_type": "code",
   "execution_count": null,
   "metadata": {},
   "outputs": [],
   "source": [
    "reviewed_clusters_csv = f\"{pam_dataset_path}/cluster_summary_reviewed.csv\"\n",
    "cluster_annotations = pd.read_csv(reviewed_clusters_csv)"
   ]
  },
  {
   "cell_type": "markdown",
   "metadata": {},
   "source": [
    "number of clusters merged with another"
   ]
  },
  {
   "cell_type": "code",
   "execution_count": 80,
   "metadata": {},
   "outputs": [
    {
     "data": {
      "text/plain": [
       "65"
      ]
     },
     "execution_count": 80,
     "metadata": {},
     "output_type": "execute_result"
    }
   ],
   "source": [
    "cluster_annotations[\"annotation\"].apply(lambda x: x == x and \"RK\" in x).sum()"
   ]
  },
  {
   "cell_type": "markdown",
   "metadata": {},
   "source": [
    "reasons for rejected clusters"
   ]
  },
  {
   "cell_type": "code",
   "execution_count": 81,
   "metadata": {},
   "outputs": [
    {
     "data": {
      "text/plain": [
       "reason\n",
       "distant         30\n",
       "not_ovenbird    29\n",
       "mixed           21\n",
       "Name: count, dtype: int64"
      ]
     },
     "execution_count": 81,
     "metadata": {},
     "output_type": "execute_result"
    }
   ],
   "source": [
    "cluster_annotations[\"reason\"].value_counts()"
   ]
  },
  {
   "cell_type": "code",
   "execution_count": 83,
   "metadata": {},
   "outputs": [
    {
     "name": "stdout",
     "output_type": "stream",
     "text": [
      "n clusters after review: 405\n"
     ]
    }
   ],
   "source": [
    "cluster_annotations[\"cluster_reviewed\"] = cluster_annotations.apply(\n",
    "    lambda row: (row[\"cluster_30\"] if row[\"annotation\"] == \"y\" else row[\"annotation\"]),\n",
    "    axis=1,\n",
    ")\n",
    "cluster_annotations[\"cluster_reviewed\"] = cluster_annotations[\"cluster_reviewed\"].apply(\n",
    "    lambda x: np.nan if x == \"n\" else x\n",
    ")\n",
    "clusters = [c for c in cluster_annotations[\"cluster_reviewed\"].unique() if c == c]\n",
    "for c in clusters:\n",
    "    assert c in cluster_annotations[\"cluster_30\"].values, c\n",
    "    assert cluster_annotations.set_index(\"cluster_30\").at[c, \"annotation\"] == \"y\", c\n",
    "print(f\"n clusters after review: {len(clusters)}\")"
   ]
  },
  {
   "cell_type": "code",
   "execution_count": 84,
   "metadata": {},
   "outputs": [],
   "source": [
    "# need integer index of each clip, restarts with each cluster\n",
    "\n",
    "cluster_samples = pd.read_csv(\n",
    "    f\"{pam_dataset_path}/per_point_clusters_sample10.csv\",\n",
    "    parse_dates=[\"datetime\", \"date\"],\n",
    "    converters={\"features3d\": parse_list_of_floats},\n",
    ")\n",
    "cluster_samples[\"file\"] = cluster_samples[\"clip_name\"].apply(\n",
    "    lambda clip: f\"{pam_dataset_path}/audio/{clip}\"\n",
    ")\n",
    "cluster_samples[\"start_time\"] = 0\n",
    "cluster_samples[\"year\"] = cluster_samples[\"date\"].apply(lambda x: x.year)\n",
    "annotated_cluster_samples = cluster_samples.copy()\n",
    "\n",
    "annotated_cluster_samples[\"idx\"] = None\n",
    "for _, cluster in annotated_cluster_samples.groupby(\"cluster_30\"):\n",
    "    idx = 0\n",
    "    for i, row in cluster.iterrows():\n",
    "        annotated_cluster_samples.at[i, \"idx\"] = idx\n",
    "        idx += 1\n",
    "\n",
    "# annotated_cluster_samples['idx'].value_counts()\n",
    "annotated_cluster_samples.set_index(\"cluster_30\", inplace=True)"
   ]
  },
  {
   "cell_type": "code",
   "execution_count": 85,
   "metadata": {},
   "outputs": [
    {
     "data": {
      "text/plain": [
       "(4237, 432, 'purity: 0.91')"
      ]
     },
     "execution_count": 85,
     "metadata": {},
     "output_type": "execute_result"
    }
   ],
   "source": [
    "annotated_cluster_samples = annotated_cluster_samples.join(\n",
    "    cluster_annotations.set_index(\"cluster_30\")[\n",
    "        [\"cluster_reviewed\", \"clips_to_exclude\"]\n",
    "    ]\n",
    ")\n",
    "annotated_cluster_samples = annotated_cluster_samples.dropna(\n",
    "    subset=[\"cluster_reviewed\"]\n",
    ")\n",
    "annotated_cluster_samples[\"clips_to_exclude\"] = annotated_cluster_samples[\n",
    "    \"clips_to_exclude\"\n",
    "].apply(lambda x: [int(i) for i in str(x).split(\",\")] if x == x else [])\n",
    "excluded_cluster_samples = annotated_cluster_samples[\n",
    "    annotated_cluster_samples.apply(lambda row: row.idx in row.clips_to_exclude, axis=1)\n",
    "]\n",
    "annotated_cluster_samples = annotated_cluster_samples[\n",
    "    annotated_cluster_samples.apply(\n",
    "        lambda row: not row.idx in row.clips_to_exclude, axis=1\n",
    "    )\n",
    "]\n",
    "\n",
    "annotated_cluster_samples = annotated_cluster_samples.drop(columns=\"clips_to_exclude\")\n",
    "n_pure = len(annotated_cluster_samples)\n",
    "n_impure = len(excluded_cluster_samples)\n",
    "n_pure, n_impure, f\"purity: {n_pure/(n_pure+n_impure):0.2f}\""
   ]
  },
  {
   "cell_type": "code",
   "execution_count": null,
   "metadata": {},
   "outputs": [],
   "source": [
    "# annotated_cluster_samples.to_csv(\n",
    "#     f\"{pam_dataset_path}/per_point_clusters_reviewed.csv\",\n",
    "#     index=False,\n",
    "# )"
   ]
  },
  {
   "cell_type": "code",
   "execution_count": null,
   "metadata": {},
   "outputs": [],
   "source": []
  },
  {
   "cell_type": "code",
   "execution_count": null,
   "metadata": {},
   "outputs": [],
   "source": [
    "all_cluster_samples = pd.read_csv(\n",
    "    f\"{pam_dataset_path}/per_point_clusters.csv\",\n",
    "    index_col=0,\n",
    ")\n",
    "all_cluster_samples.index.name = \"clip_index\"\n",
    "\n",
    "all_cluster_samples = all_cluster_samples.reset_index(drop=False).set_index(\n",
    "    \"cluster_30\"\n",
    ")\n",
    "\n",
    "all_cluster_samples = all_cluster_samples.join(\n",
    "    cluster_annotations.set_index(\"cluster_30\")[[\"cluster_reviewed\"]]\n",
    ")\n",
    "all_cluster_samples = all_cluster_samples.dropna(subset=[\"cluster_reviewed\"])\n",
    "all_cluster_samples.to_csv(f\"{pam_dataset_path}/all_clips_with_cleaned_clusters.csv\")"
   ]
  },
  {
   "cell_type": "code",
   "execution_count": 88,
   "metadata": {},
   "outputs": [
    {
     "data": {
      "text/plain": [
       "470"
      ]
     },
     "execution_count": 88,
     "metadata": {},
     "output_type": "execute_result"
    }
   ],
   "source": [
    "len(all_cluster_samples.index.unique())"
   ]
  },
  {
   "cell_type": "code",
   "execution_count": 89,
   "metadata": {},
   "outputs": [
    {
     "data": {
      "text/plain": [
       "405"
      ]
     },
     "execution_count": 89,
     "metadata": {},
     "output_type": "execute_result"
    }
   ],
   "source": [
    "len(all_cluster_samples.cluster_reviewed.unique())"
   ]
  }
 ],
 "metadata": {
  "kernelspec": {
   "display_name": "opso0120",
   "language": "python",
   "name": "python3"
  },
  "language_info": {
   "codemirror_mode": {
    "name": "ipython",
    "version": 3
   },
   "file_extension": ".py",
   "mimetype": "text/x-python",
   "name": "python",
   "nbconvert_exporter": "python",
   "pygments_lexer": "ipython3",
   "version": "3.11.11"
  }
 },
 "nbformat": 4,
 "nbformat_minor": 2
}
