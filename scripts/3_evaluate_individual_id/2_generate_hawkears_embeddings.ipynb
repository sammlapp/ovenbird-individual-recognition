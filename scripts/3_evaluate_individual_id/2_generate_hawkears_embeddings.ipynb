{
 "cells": [
  {
   "cell_type": "markdown",
   "metadata": {},
   "source": [
    "## Embed validation and test sets of individually annotated Ovenbird songs with HawkEars"
   ]
  },
  {
   "cell_type": "code",
   "execution_count": null,
   "metadata": {},
   "outputs": [],
   "source": [
    "import bioacoustics_model_zoo as bmz\n",
    "import pandas as pd\n",
    "import numpy as np\n",
    "from pathlib import Path"
   ]
  },
  {
   "cell_type": "markdown",
   "metadata": {},
   "source": [
    "load tables listing the clips to embed for validation and test sets"
   ]
  },
  {
   "cell_type": "code",
   "execution_count": null,
   "metadata": {},
   "outputs": [
    {
     "data": {
      "text/plain": [
       "(2739, 1224)"
      ]
     },
     "execution_count": 3,
     "metadata": {},
     "output_type": "execute_result"
    }
   ],
   "source": [
    "annotated_dataset_path = \"../../../localization_dataset_labeled_clips\"\n",
    "labels = pd.read_csv(f\"{annotated_dataset_path}/labeled_clips.csv\")\n",
    "val = labels[labels[\"data_split\"] == \"val\"]\n",
    "test = labels[labels[\"data_split\"] == \"test\"]\n",
    "\n",
    "# only predict on the 4-7 s part of the 10s clip\n",
    "val = pd.DataFrame({\"file\": val[\"rel_path\"], \"start_time\": 4, \"end_time\": 7}).set_index(\n",
    "    [\"file\", \"start_time\", \"end_time\"]\n",
    ")\n",
    "test = pd.DataFrame(\n",
    "    {\"file\": test[\"rel_path\"], \"start_time\": 4, \"end_time\": 7}\n",
    ").set_index([\"file\", \"start_time\", \"end_time\"])\n",
    "len(val), len(test)"
   ]
  },
  {
   "cell_type": "code",
   "execution_count": null,
   "metadata": {},
   "outputs": [
    {
     "name": "stdout",
     "output_type": "stream",
     "text": [
      "Downloading model from URL...\n",
      "File hgnet1.ckpt already exists; skipping download.\n",
      "Loading model from local checkpoint /Users/SML161/song25_oven_aiid/oven_aiid/develop_and_evaluate_aiid/5_evaluate_individual_id/hgnet1.ckpt...\n",
      "Downloading model from URL...\n",
      "File hgnet2.ckpt already exists; skipping download.\n",
      "Loading model from local checkpoint /Users/SML161/song25_oven_aiid/oven_aiid/develop_and_evaluate_aiid/5_evaluate_individual_id/hgnet2.ckpt...\n",
      "Downloading model from URL...\n",
      "File hgnet3.ckpt already exists; skipping download.\n",
      "Loading model from local checkpoint /Users/SML161/song25_oven_aiid/oven_aiid/develop_and_evaluate_aiid/5_evaluate_individual_id/hgnet3.ckpt...\n",
      "Downloading model from URL...\n",
      "File hgnet4.ckpt already exists; skipping download.\n",
      "Loading model from local checkpoint /Users/SML161/song25_oven_aiid/oven_aiid/develop_and_evaluate_aiid/5_evaluate_individual_id/hgnet4.ckpt...\n",
      "Downloading model from URL...\n",
      "File hgnet5.ckpt already exists; skipping download.\n",
      "Loading model from local checkpoint /Users/SML161/song25_oven_aiid/oven_aiid/develop_and_evaluate_aiid/5_evaluate_individual_id/hgnet5.ckpt...\n"
     ]
    },
    {
     "name": "stderr",
     "output_type": "stream",
     "text": [
      "/Users/SML161/miniconda3/envs/opso0110/lib/python3.11/site-packages/opensoundscape/preprocess/preprocessors.py:512: DeprecationWarning: sample_shape argument is deprecated. Please use height, width, channels arguments instead. \n",
      "                The current behavior is to override height, width, channels with sample_shape \n",
      "                when sample_shape is not None.\n",
      "                \n",
      "  warnings.warn(\n",
      "/Users/SML161/miniconda3/envs/opso0110/lib/python3.11/site-packages/opensoundscape/ml/cnn.py:599: UserWarning: \n",
      "                    This architecture is not listed in opensoundscape.ml.cnn_architectures.ARCH_DICT.\n",
      "                    It will not be available for loading after saving the model with .save() (unless using pickle=True). \n",
      "                    To make it re-loadable, define a function that generates the architecture from arguments: (n_classes, n_channels) \n",
      "                    then use opensoundscape.ml.cnn_architectures.register_architecture() to register the generating function.\n",
      "\n",
      "                    The function can also set the returned object's .constructor_name to the registered string key in ARCH_DICT\n",
      "                    to avoid this warning and ensure it is reloaded correctly by opensoundscape.ml.load_model().\n",
      "\n",
      "                    See opensoundscape.ml.cnn_architectures module for examples of constructor functions\n",
      "                    \n",
      "  warnings.warn(\n",
      "/Users/SML161/miniconda3/envs/opso0110/lib/python3.11/site-packages/opensoundscape/ml/cnn.py:623: UserWarning: Failed to detect expected # input channels of this architecture.Make sure your architecture expects the number of channels equal to `channels` argument 1). Pytorch architectures generally expect 3 channels by default.\n",
      "  warnings.warn(\n"
     ]
    }
   ],
   "source": [
    "# load the HawkEars model from the Bioacoustics Model Zoo\n",
    "hawkears = bmz.HawkEars()"
   ]
  },
  {
   "cell_type": "markdown",
   "metadata": {},
   "source": [
    "generate embeddings on the validation and test dataframes"
   ]
  },
  {
   "cell_type": "code",
   "execution_count": null,
   "metadata": {},
   "outputs": [
    {
     "data": {
      "application/vnd.jupyter.widget-view+json": {
       "model_id": "6fa74459153447b4a75dc1bc8f6db7c8",
       "version_major": 2,
       "version_minor": 0
      },
      "text/plain": [
       "  0%|          | 0/10 [00:00<?, ?it/s]"
      ]
     },
     "metadata": {},
     "output_type": "display_data"
    },
    {
     "name": "stderr",
     "output_type": "stream",
     "text": [
      "/Users/SML161/miniconda3/envs/opso0110/lib/python3.11/site-packages/torch/utils/data/dataloader.py:683: UserWarning: 'pin_memory' argument is set as true but not supported on MPS now, then device pinned memory won't be used.\n",
      "  warnings.warn(warn_msg)\n"
     ]
    },
    {
     "data": {
      "application/vnd.jupyter.widget-view+json": {
       "model_id": "07b69c3d7a9248228823fccdf6e14977",
       "version_major": 2,
       "version_minor": 0
      },
      "text/plain": [
       "  0%|          | 0/22 [00:00<?, ?it/s]"
      ]
     },
     "metadata": {},
     "output_type": "display_data"
    },
    {
     "name": "stderr",
     "output_type": "stream",
     "text": [
      "/Users/SML161/miniconda3/envs/opso0110/lib/python3.11/site-packages/torch/utils/data/dataloader.py:683: UserWarning: 'pin_memory' argument is set as true but not supported on MPS now, then device pinned memory won't be used.\n",
      "  warnings.warn(warn_msg)\n"
     ]
    }
   ],
   "source": [
    "test_embeddings = hawkears.embed(\n",
    "    test, batch_size=128, num_workers=9, audio_root=annotated_dataset_path\n",
    ")\n",
    "# test_embeddings.to_csv(f\"../resources/hawkears_test_embeddings.csv\")\n",
    "\n",
    "Path(\"../resources/precomputed_embeddings\").mkdir(exist_ok=True)\n",
    "np.save(\n",
    "    \"../resources/precomputed_embeddings/hawkears_test_embeddings.npy\",\n",
    "    test_embeddings.values,\n",
    ")\n",
    "val_embeddings = hawkears.embed(\n",
    "    val, batch_size=128, num_workers=0, audio_root=annotated_dataset_path\n",
    ")\n",
    "# val_embeddings.to_csv(f\"../resources/hawkears_val_embeddings.csv\")\n",
    "np.save(\n",
    "    \"../resources/precomputed_embeddings/hawkears_val_embeddings.npy\",\n",
    "    val_embeddings.values,\n",
    ")"
   ]
  }
 ],
 "metadata": {
  "kernelspec": {
   "display_name": "opso0110",
   "language": "python",
   "name": "python3"
  },
  "language_info": {
   "codemirror_mode": {
    "name": "ipython",
    "version": 3
   },
   "file_extension": ".py",
   "mimetype": "text/x-python",
   "name": "python",
   "nbconvert_exporter": "python",
   "pygments_lexer": "ipython3",
   "version": "3.11.10"
  }
 },
 "nbformat": 4,
 "nbformat_minor": 2
}
